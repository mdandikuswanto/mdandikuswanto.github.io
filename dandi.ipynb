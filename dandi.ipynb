{
 "cells": [
  {
   "cell_type": "code",
   "execution_count": 0,
   "metadata": {
    "collapsed": false
   },
   "outputs": [
   ],
   "source": [
    "LIFO, merupakan singkatan dari last in first out, artinya data yang paling terakhir masuk akan keluar paling pertama\n",
    "stack(), inisialisasi stack kosong atau bisa disebut dengan tumpukan\n",
    "push(data), menambah data\n",
    "pop(), mengurangi data yang terdapat pada posisi top atau paling atas\n",
    "peek, sebagai informasi data yang terletak pada top atau paling atas\n",
    "isEmpty, untuk mengecek apakah stack sudah kosong, outputnya true atau false\n",
    "size, memeriksa jumlah data"
   ]
  },
  {
   "cell_type": "code",
   "execution_count": 0,
   "metadata": {
    "collapsed": false
   },
   "outputs": [
   ],
   "source": [
    "def stack():\n",
    "    s=[]\n",
    "    return(s)\n",
    "def push(s,data):\n",
    "    s.append(data)\n",
    "    def pop(s):\n",
    "        data=s.pop()\n",
    "        return(data)\n",
    "    def peek (s):\n",
    "        return(s[len(s)-1])\n",
    "    def isEmpty(s):\n",
    "        return (s==[])\n",
    "    def size (s):\n",
    "        return (len(s))"
   ]
  },
  {
   "cell_type": "code",
   "execution_count": 0,
   "metadata": {
    "collapsed": false
   },
   "outputs": [
   ],
   "source": [
    "contoh program untuk membalikkan kata:"
   ]
  },
  {
   "cell_type": "code",
   "execution_count": 0,
   "metadata": {
    "collapsed": false
   },
   "outputs": [
   ],
   "source": [
    "def balik (teks):\n",
    "    a= stack()\n",
    "    for i in range(len(teks)):\n",
    "        push(a,teks[i])\n",
    "        hasil=''\n",
    "        for i in range (len(teks)):\n",
    "            hasil=hasil+pop(a)\n",
    "            return hasil\n",
    "        print(balik('arek'))"
   ]
  },
  {
   "cell_type": "code",
   "execution_count": 0,
   "metadata": {
    "collapsed": false
   },
   "outputs": [
   ],
   "source": [
    "ekspresi aritmatik infix, prefix dan postfix\n",
    "(A+B)*C ==> prefix= *+ABC post AB+C*\n",
    "(A+B)*(C+d)==> pre *+AB+CD post AB+CD+*\n",
    "A+B*C==> pre +A*BC post ABC*+\n",
    "A*B-C*D==> pre -*AB*CD post AB*CD*- A*(B+C) post ABC+* A+B*C post ABC*+"
   ]
  }
 ],
 "metadata": {
  "kernelspec": {
   "display_name": "Python 3 (Ubuntu Linux)",
   "language": "python",
   "name": "python3"
  },
  "language_info": {
   "codemirror_mode": {
    "name": "ipython",
    "version": 3
   },
   "file_extension": ".py",
   "mimetype": "text/x-python",
   "name": "python",
   "nbconvert_exporter": "python",
   "pygments_lexer": "ipython3",
   "version": "3.6.7"
  }
 },
 "nbformat": 4,
 "nbformat_minor": 0
}